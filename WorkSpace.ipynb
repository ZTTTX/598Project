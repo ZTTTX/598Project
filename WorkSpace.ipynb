{
 "cells": [
  {
   "cell_type": "code",
   "execution_count": 26,
   "metadata": {},
   "outputs": [],
   "source": [
    "import speech_recognition as sr"
   ]
  },
  {
   "cell_type": "code",
   "execution_count": 27,
   "metadata": {},
   "outputs": [
    {
     "name": "stdout",
     "output_type": "stream",
     "text": [
      "result2:\n",
      "{   'alternative': [   {   'confidence': 0.92534178,\n",
      "                           'transcript': 'the stale smell of old beer lingers '\n",
      "                                         'it takes heat to bring out the odor '\n",
      "                                         'a cold dip restores health and zest '\n",
      "                                         'a salt pickle taste fine with ham '\n",
      "                                         'tacos al pastor are my favorite a '\n",
      "                                         'zestful food is the hot cross bun'},\n",
      "                       {   'confidence': 0.92534178,\n",
      "                           'transcript': 'the stale smell of old beer lingers '\n",
      "                                         'it takes heat to bring out the odor '\n",
      "                                         'a cold dip restores health and zest '\n",
      "                                         'a salt pickle tastes fine with ham '\n",
      "                                         'tacos al pastor are my favorite a '\n",
      "                                         'zestful food is the hot cross bun'},\n",
      "                       {   'confidence': 0.92534178,\n",
      "                           'transcript': 'the stale smell of old beer lingers '\n",
      "                                         'it takes heat to bring out the odor '\n",
      "                                         'a cold dip restores health and zest '\n",
      "                                         'a salt pickle taste fine with Hamm '\n",
      "                                         'tacos al pastor are my favorite a '\n",
      "                                         'zestful food is the hot cross bun'},\n",
      "                       {   'confidence': 0.92534178,\n",
      "                           'transcript': 'the stale smell of old beer lingers '\n",
      "                                         'it takes heat to bring out the odor '\n",
      "                                         'a cold dip restores health and zest '\n",
      "                                         'a salt pickle tastes fine with Hamm '\n",
      "                                         'tacos al pastor are my favorite a '\n",
      "                                         'zestful food is the hot cross bun'},\n",
      "                       {   'confidence': 0.92534178,\n",
      "                           'transcript': 'the staehle smell of old beer '\n",
      "                                         'lingers it takes heat to bring out '\n",
      "                                         'the odor a cold dip restores health '\n",
      "                                         'and zest a salt pickle taste fine '\n",
      "                                         'with ham tacos al pastor are my '\n",
      "                                         'favorite a zestful food is the hot '\n",
      "                                         'cross bun'}],\n",
      "    'final': True}\n",
      "the stale smell of old beer lingers it takes heat to bring out the odor a cold dip restores health and zest a salt pickle taste fine with ham tacos al pastor are my favorite a zestful food is the hot cross bun\n"
     ]
    }
   ],
   "source": [
    "def transcribe_audio(wav_file):\n",
    "    recognizer = sr.Recognizer()\n",
    "    with sr.AudioFile(wav_file) as source:\n",
    "        audio_data = recognizer.record(source)\n",
    "        try:\n",
    "            text = recognizer.recognize_google(audio_data)\n",
    "            return text\n",
    "        except sr.UnknownValueError:\n",
    "            return \"Google Speech Recognition could not understand audio\"\n",
    "        except sr.RequestError as e:\n",
    "            return f\"Could not request results from Google Speech Recognition service; {e}\"\n",
    "\n",
    "def main():\n",
    "    wav_file = \"./data/test.wav\"  # Replace with your wav file path\n",
    "    text = transcribe_audio(wav_file)\n",
    "    print(text)\n",
    "\n",
    "main()"
   ]
  }
 ],
 "metadata": {
  "kernelspec": {
   "display_name": "Python 3",
   "language": "python",
   "name": "python3"
  },
  "language_info": {
   "codemirror_mode": {
    "name": "ipython",
    "version": 3
   },
   "file_extension": ".py",
   "mimetype": "text/x-python",
   "name": "python",
   "nbconvert_exporter": "python",
   "pygments_lexer": "ipython3",
   "version": "3.7.6"
  }
 },
 "nbformat": 4,
 "nbformat_minor": 4
}
